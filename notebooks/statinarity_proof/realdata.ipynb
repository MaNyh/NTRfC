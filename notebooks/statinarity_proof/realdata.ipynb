{
 "cells": [
  {
   "cell_type": "markdown",
   "source": [],
   "metadata": {
    "collapsed": false
   }
  },
  {
   "cell_type": "code",
   "execution_count": 1,
   "metadata": {
    "collapsed": true,
    "pycharm": {
     "name": "#%%\n"
    }
   },
   "outputs": [
    {
     "name": "stdout",
     "output_type": "stream",
     "text": [
      "[0.06500413 0.06500798 0.0650145  0.06502554 0.06504421 0.06507582\n",
      " 0.0651293  0.0652198  0.06537294 0.06563208 0.06607059 0.06662185\n",
      " 0.06717311 0.06772437 0.06827563 0.06883555 0.06941307 0.07000873\n",
      " 0.07062312 0.07125682 0.07191042 0.07258457 0.07327991 0.0739971\n",
      " 0.07473683 0.0754998  0.07628675 0.07709844 0.07793563 0.07879913\n",
      " 0.07968977 0.0806084  0.0815559  0.08253318 0.08354116 0.08458083\n",
      " 0.08565316 0.08675921 0.08790001 0.08907665 0.09029029 0.09154206\n",
      " 0.09283315 0.09416485 0.09553839 0.09695508 0.0983937  0.0998323\n",
      " 0.10127093 0.10270954 0.10414816 0.10558677 0.10702539 0.10846399\n",
      " 0.10990262 0.11134122 0.11277985 0.11421846 0.11565708 0.11709569\n",
      " 0.11853431 0.11997291 0.12141154 0.12285016 0.12428877 0.12572738\n",
      " 0.127166   0.12860462 0.13004322 0.13148186 0.13292046 0.13435908\n",
      " 0.13579769 0.13723631 0.13867492 0.14009163 0.14146516 0.14279684\n",
      " 0.14408794 0.14533971 0.14655334 0.14772999 0.14887078 0.14997684\n",
      " 0.15104917 0.15208884 0.15309681 0.15407409 0.15502159 0.15594022\n",
      " 0.15683088 0.15769436 0.15853156 0.15934326 0.1601302  0.16089319\n",
      " 0.16163291 0.16235009 0.16304541 0.16371957 0.16437319 0.16500689\n",
      " 0.16562127 0.16621694 0.16679445 0.16735437 0.16790564 0.16845688\n",
      " 0.16900815 0.1695594  0.16999792 0.17025705 0.1704102  0.1705007\n",
      " 0.17055416 0.17058577 0.17060445 0.17061549 0.17062202 0.17062588\n",
      " 0.17062816 0.1706295 ]\n",
      "122\n",
      "122\n"
     ]
    },
    {
     "data": {
      "text/plain": "('nonstationary', False, -1, 0, 0)"
     },
     "execution_count": 1,
     "metadata": {},
     "output_type": "execute_result"
    }
   ],
   "source": [
    "import pandas as pd\n",
    "import numpy as np\n",
    "from ntrfc.postprocessing.timeseries.stationary_signal_check import check_signal_stationarity, chunks\n",
    "data =pd.read_csv(\"d1_area_IGV_INFLOW.dat\",skiprows=9,sep=\"\\s+\")\n",
    "\n",
    "rawdata = np.asarray(data.iloc[:, 1])\n",
    "print(rawdata)\n",
    "faketimesteps = np.arange(len(rawdata))\n",
    "print(len(rawdata))\n",
    "print(len(faketimesteps))\n",
    "check_signal_stationarity(10,rawdata,faketimesteps)\n"
   ]
  },
  {
   "cell_type": "code",
   "execution_count": null,
   "outputs": [],
   "source": [
    "\n",
    "\n",
    "1+1"
   ],
   "metadata": {
    "collapsed": false,
    "pycharm": {
     "name": "#%%\n"
    }
   }
  },
  {
   "cell_type": "code",
   "execution_count": null,
   "outputs": [],
   "source": [],
   "metadata": {
    "collapsed": false,
    "pycharm": {
     "name": "#%%\n"
    }
   }
  }
 ],
 "metadata": {
  "kernelspec": {
   "display_name": "Python 3",
   "language": "python",
   "name": "python3"
  },
  "language_info": {
   "codemirror_mode": {
    "name": "ipython",
    "version": 2
   },
   "file_extension": ".py",
   "mimetype": "text/x-python",
   "name": "python",
   "nbconvert_exporter": "python",
   "pygments_lexer": "ipython2",
   "version": "2.7.6"
  }
 },
 "nbformat": 4,
 "nbformat_minor": 0
}
